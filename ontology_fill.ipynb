{
  "nbformat": 4,
  "nbformat_minor": 0,
  "metadata": {
    "colab": {
      "provenance": []
    },
    "kernelspec": {
      "name": "python3",
      "display_name": "Python 3"
    },
    "language_info": {
      "name": "python"
    }
  },
  "cells": [
    {
      "cell_type": "code",
      "execution_count": 77,
      "metadata": {
        "colab": {
          "base_uri": "https://localhost:8080/"
        },
        "id": "_b9HRBNIcS08",
        "outputId": "772f3235-05cf-472d-f3a8-0b1736a4d5e2"
      },
      "outputs": [
        {
          "output_type": "stream",
          "name": "stdout",
          "text": [
            "Looking in indexes: https://pypi.org/simple, https://us-python.pkg.dev/colab-wheels/public/simple/\n",
            "Requirement already satisfied: rdflib in /usr/local/lib/python3.8/dist-packages (6.2.0)\n",
            "Requirement already satisfied: pyparsing in /usr/local/lib/python3.8/dist-packages (from rdflib) (3.0.9)\n",
            "Requirement already satisfied: setuptools in /usr/local/lib/python3.8/dist-packages (from rdflib) (57.4.0)\n",
            "Requirement already satisfied: isodate in /usr/local/lib/python3.8/dist-packages (from rdflib) (0.6.1)\n",
            "Requirement already satisfied: six in /usr/local/lib/python3.8/dist-packages (from isodate->rdflib) (1.15.0)\n",
            "Looking in indexes: https://pypi.org/simple, https://us-python.pkg.dev/colab-wheels/public/simple/\n",
            "Requirement already satisfied: urllib3 in /usr/local/lib/python3.8/dist-packages (1.26.13)\n",
            "Looking in indexes: https://pypi.org/simple, https://us-python.pkg.dev/colab-wheels/public/simple/\n",
            "Requirement already satisfied: beautifulsoup4 in /usr/local/lib/python3.8/dist-packages (4.6.3)\n"
          ]
        }
      ],
      "source": [
        "!pip install rdflib\n",
        "!pip install urllib3\n",
        "!pip install beautifulsoup4"
      ]
    },
    {
      "cell_type": "code",
      "source": [
        "from google.colab import drive\n",
        "\n",
        "drive.mount('/content/gdrive')\n",
        "ontology_url = 'gdrive/My Drive/Colab Notebooks/OntologiesRepresentationKnowledge/tanks.owl'"
      ],
      "metadata": {
        "colab": {
          "base_uri": "https://localhost:8080/"
        },
        "id": "78pKABSOciul",
        "outputId": "51a1c806-49a8-41f5-8ca6-8e359d43340c"
      },
      "execution_count": 32,
      "outputs": [
        {
          "output_type": "stream",
          "name": "stdout",
          "text": [
            "Drive already mounted at /content/gdrive; to attempt to forcibly remount, call drive.mount(\"/content/gdrive\", force_remount=True).\n"
          ]
        }
      ]
    },
    {
      "cell_type": "code",
      "source": [
        "from rdflib import Graph\n",
        "\n",
        "# Create a Graph\n",
        "tanks_ontology_graph = Graph()\n",
        "\n",
        "# Parse in an RDF file\n",
        "tanks_ontology_graph.parse(ontology_url)\n",
        "\n",
        "# Loop through each triple in the graph (subj, pred, obj)\n",
        "for subj, pred, obj in tanks_ontology_graph:\n",
        "    # Check if there is at least one triple in the Graph\n",
        "    if (subj, pred, obj) not in tanks_ontology_graph:\n",
        "       raise Exception(\"It better be!\")\n",
        "\n",
        "# Print the number of \"triples\" in the Graph\n",
        "print(f\"tanks_ontology_graph has {len(tanks_ontology_graph)} statements.\")\n",
        "# Prints: Graph g has 86 statements.\n",
        "\n",
        "# Print out the entire Graph in the RDF Turtle format\n",
        "# print(g.serialize(format=\"turtle\"))"
      ],
      "metadata": {
        "colab": {
          "base_uri": "https://localhost:8080/"
        },
        "id": "mVx5i4pgc5Wp",
        "outputId": "9b433315-c812-4610-c002-c1aed8528e50"
      },
      "execution_count": 33,
      "outputs": [
        {
          "output_type": "stream",
          "name": "stdout",
          "text": [
            "tanks_ontology_graph has 1023 statements.\n"
          ]
        }
      ]
    },
    {
      "cell_type": "markdown",
      "source": [
        "# Network scripts\n",
        "In below section I implemented list of methods that are used for get data from Internet"
      ],
      "metadata": {
        "id": "VKK--h9PAUvK"
      }
    },
    {
      "cell_type": "code",
      "source": [
        "import urllib3\n",
        "import json\n",
        "from bs4 import BeautifulSoup as bs\n",
        "\n",
        "urllib3.disable_warnings()\n",
        "\n",
        "http = urllib3.PoolManager()\n",
        "application_id = 'a12842cff8d85bdbdb9e779cca01397b'\n",
        "\n",
        "# Script for obtain all 10 tier tanks info\n",
        "def get_all_tanks_json():\n",
        "  r = http.request('GET', f\"https://api.tanki.su/wot/encyclopedia/vehicles/?application_id={application_id}&tier=10&fields=is_wheeled%2Ctag%2Ctank_id%2Ctype%2Cdescription%2Cshort_name%2Cnation%2Ctier%2Cname%2Cdefault_profile.hp%2Cdefault_profile.speed_forward%2Cdefault_profile.speed_backward%2Cdefault_profile.engine%2Cdefault_profile.ammo%2Cdefault_profile.modules%2Cdefault_profile.gun%2Cdefault_profile.turret%2Cdefault_profile.armor%2Cdefault_profile.rapid%2Cdefault_profile.siege\")\n",
        "  data = json.loads(r.data)\n",
        "  res = data['data']\n",
        "  return res\n",
        "\n",
        "# Script for obtain player info\n",
        "def get_user_info_by_nickname(nickname):\n",
        "  ## get id by nickname\n",
        "  r = http.request('GET', f\"https://api.tanki.su/wot/account/list/?application_id={application_id}&search={nickname}\")\n",
        "  response = json.loads(r.data)\n",
        "  data = response['data']\n",
        "  player_id = None\n",
        "  for player in data:\n",
        "    if player['nickname'] == nickname:\n",
        "      player_id = player['account_id']\n",
        "  \n",
        "  ## get info by id\n",
        "  player_info = None\n",
        "  if player_id != None:\n",
        "    r = http.request('GET', f\"https://api.tanki.su/wot/account/info/?application_id={application_id}&account_id={player_id}&fields=account_id%2Cglobal_rating%2Cclan_id%2Cstatistics.all%2Cstatistics.trees_cut%2Cnickname\")\n",
        "    data = json.loads(r.data)\n",
        "    player_info = data['data'][f'{player_id}']\n",
        "\n",
        "  return player_info\n",
        "\n",
        "# Script for obtain stats on each tank by player\n",
        "def get_player_stats_on_tank_by_id(player_id):\n",
        "  r = http.request('GET', f\"https://api.tanki.su/wot/tanks/stats/?account_id={player_id}&application_id={application_id}&in_garage=1&tank_id=20225%2C3473%2C7169%2C6193%2C15425%2C6145%2C5281%2C13569%2C32001%2C8705%2C2417%2C15953%2C14609%2C16897%2C16913%2C13857%2C3649%2C50849%2C6209%2C34049%2C7249%2C14113%2C9233%2C9297%2C52081%2C5265%2C5425%2C61697%2C4145%2C13825%2C20993%2C14881%2C13905%2C62513%2C4737%2C2721%2C22017%2C17217%2C55841%2C16961%2C58369%2C19489%2C6225%2C21537%2C2977%2C21761%2C8497%2C17729%2C5505%2C12369%2C50689%2C15905%2C13889%2C3681%2C63537%2C12049%2C57937%2C60977%2C6929%2C62257%2C35361%2C19217%2C3937%2C22273%2C11841%2C19473%2C10785%2C9489%2C12305%2C58961%2C8481%2C15697%2C2433%2C2929%2C19985%2C58641%2C5937%2C19969%2C46849%2C19201%2C15617%2C13089%2C19009&fields=account_id%2Cmax_xp%2Call%2Cmax_frags%2Cfrags%2Cmark_of_mastery%2Ctank_id\")\n",
        "  data = json.loads(r.data)\n",
        "  res = data['data'][f'{player_id}']\n",
        "  return res\n",
        "\n",
        "# Script for obtain clan stats\n",
        "def get_clan_info_by_tag(clan_tag):\n",
        "  ## get id by tag\n",
        "  r = http.request('GET', f\"https://api.tanki.su/wot/clans/list/?application_id={application_id}&search={clan_tag}\")\n",
        "  response = json.loads(r.data)\n",
        "  data = response['data']\n",
        "  clan_id = None\n",
        "  for clan in data:\n",
        "    if clan['tag'] == clan_tag:\n",
        "      clan_id = clan['clan_id']\n",
        "  \n",
        "  ## get info by id\n",
        "  clan_info = None\n",
        "  if clan_id != None:\n",
        "    r = http.request('GET', f\"https://api.tanki.su/wot/clans/info/?application_id={application_id}&clan_id={clan_id}&fields=members_count%2Cdescription%2Ccreator_name%2Cclan_id%2Cleader_name%2Ccreator_id%2Ctag%2Cmembers.account_id%2Cmembers.account_name%2Cold_name%2Cleader_id%2Cmotto%2Cold_tag%2Cname\")\n",
        "    data = json.loads(r.data)\n",
        "    clan_info = data['data'][f'{clan_id}']\n",
        "\n",
        "  return clan_info\n",
        "\n",
        "# Script to obtain battle info\n",
        "# def get_battle_info(battle_id):\n",
        "#   r = http.request('GET', f\"http://tankireplays.lesta.ru/site/{battle_id}#stats\")\n",
        "#   soup = bs(r.data, 'html.parser')\n",
        "\n",
        "#   ## get battle status (win/lose)\n",
        "#   battle_status = soup.find('div', class_='replay-stats__title').text\n",
        "\n",
        "#   ## get teams and result of each player\n",
        "#   ally_team_results = []\n",
        "#   enemy_team_results = []\n",
        "\n",
        "#   r = http.request('GET', f\"http://tankireplays.lesta.ru/site/{battle_id}#teams\")\n",
        "#   soup = bs(r.data, 'html.parser')\n",
        "#   ally_team_html = soup.find('div', class_='replay-teams__team ng-scope replay-teams__team--ally')\n",
        "#   enemy_team_html = soup.find('div', class_='replay-teams__team ng-scope replay-teams__team--enemy')\n",
        "\n",
        "#   print(soup.prettify())\n",
        "#   print(ally_team_html)\n",
        "#   print(enemy_team_html)\n",
        "\n",
        "#   battle = {\n",
        "#       'id': battle_id,\n",
        "#       'status': battle_status,\n",
        "#       'ally_team_results': ally_team_results,\n",
        "#       'enemy_team_results': enemy_team_results\n",
        "#   }\n",
        "\n",
        "#   return battle"
      ],
      "metadata": {
        "id": "14xy3lWUAYts"
      },
      "execution_count": 79,
      "outputs": []
    },
    {
      "cell_type": "code",
      "source": [
        "all_tanks = get_all_tanks_json()\n",
        "print(f\"number of tanks: {len(all_tanks)}\")\n",
        "\n",
        "player_json = get_user_info_by_nickname('preachooda')\n",
        "print(f\"{player_json['nickname']}'s id: {player_json['account_id']}\")\n",
        "\n",
        "player_stats_on_tanks_json = get_player_stats_on_tank_by_id(player_json['account_id'])\n",
        "print(f\"number of tanks that owned by {player_json['nickname']}: {len(player_stats_on_tanks_json)}\")\n",
        "\n",
        "clan_json = get_clan_info_by_tag('NE6P0')\n",
        "print(f\"number of {clan_json['name']} clan members: {len(clan_json['members'])}\")"
      ],
      "metadata": {
        "colab": {
          "base_uri": "https://localhost:8080/"
        },
        "id": "3OBQu9NqC_40",
        "outputId": "380f7540-e77c-4ff3-9d97-406f27c79199"
      },
      "execution_count": 35,
      "outputs": [
        {
          "output_type": "stream",
          "name": "stdout",
          "text": [
            "number of tanks: 83\n",
            "preachooda's id: 8438923\n",
            "number of tanks that owned by preachooda: 31\n",
            "number of Ne6p0 clan members: 91\n"
          ]
        }
      ]
    },
    {
      "cell_type": "code",
      "source": [
        "tank = None\n",
        "for id, info in all_tanks.items():\n",
        "  tank = info\n",
        "  break\n",
        "  # if info['nation'] == 'czech':\n",
        "  #   print(f\"tank id = {id}; tank name = {info['short_name']}\")"
      ],
      "metadata": {
        "id": "nLpMO86qruYc"
      },
      "execution_count": 36,
      "outputs": []
    },
    {
      "cell_type": "code",
      "source": [
        "# Show tanks info\n",
        "# tank"
      ],
      "metadata": {
        "id": "qSGBmRr6ycS7"
      },
      "execution_count": 37,
      "outputs": []
    },
    {
      "cell_type": "code",
      "source": [
        "# Show common player stats\n",
        "# player_json"
      ],
      "metadata": {
        "id": "MFnty8ELxnrs"
      },
      "execution_count": 38,
      "outputs": []
    },
    {
      "cell_type": "code",
      "source": [
        "# Show one entity of stats on concrete tank for player\n",
        "# player_stats_on_tanks_json[0]"
      ],
      "metadata": {
        "id": "abUjdgyNPM94"
      },
      "execution_count": 39,
      "outputs": []
    },
    {
      "cell_type": "code",
      "source": [
        "# Show clan info\n",
        "# clan_json"
      ],
      "metadata": {
        "id": "HYcuD3yKx7n2"
      },
      "execution_count": 40,
      "outputs": []
    }
  ]
}